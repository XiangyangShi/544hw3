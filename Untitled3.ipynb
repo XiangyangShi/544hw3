{
 "cells": [
  {
   "cell_type": "markdown",
   "metadata": {},
   "source": [
    "# 544 hw3 Group Project"
   ]
  },
  {
   "cell_type": "markdown",
   "metadata": {},
   "source": [
    "# 1. lyrics\n",
    "## 给歌词的种类分类\n",
    "\n",
    "> 去歌曲网站上，选定分类<流行，爵士，摇滚，叙事>\n",
    "\n",
    "> 按照分类爬数据，爬取的数据自动有标签"
   ]
  },
  {
   "cell_type": "markdown",
   "metadata": {},
   "source": [
    "# 2. Kaggles\n",
    "\n",
    "> 在kaggle上获得成熟的数据集\n",
    "\n",
    "> 把数据集的多维的标注当特征，部分重新标注新的分类\n",
    "\n",
    "> 训练随机森林，获得f(特征)=分类\n",
    "\n",
    "> 用随机森林获得所有标注\n"
   ]
  },
  {
   "cell_type": "markdown",
   "metadata": {},
   "source": [
    "# 3. Machine Language\n",
    "## 拿谷歌机器翻译和原文对比\n",
    "\n",
    "> 自动获得标注\n",
    "> 评估一个文章是机器生成的还是自然的"
   ]
  },
  {
   "cell_type": "markdown",
   "metadata": {},
   "source": [
    "# 4. CS papers\n",
    "## 爬取一些论文，读取其中的文字\n",
    "\n",
    "> acemap.info的数据库我有权限\n",
    "\n",
    "> 可以获得很多已经data mining出来的数据"
   ]
  },
  {
   "cell_type": "markdown",
   "metadata": {},
   "source": [
    "# 4. Bible corpus\n",
    "## No idea\n",
    "\n",
    "> ask priest for help"
   ]
  },
  {
   "cell_type": "code",
   "execution_count": null,
   "metadata": {},
   "outputs": [],
   "source": []
  }
 ],
 "metadata": {
  "kernelspec": {
   "display_name": "Python 2",
   "language": "python",
   "name": "python2"
  },
  "language_info": {
   "codemirror_mode": {
    "name": "ipython",
    "version": 2
   },
   "file_extension": ".py",
   "mimetype": "text/x-python",
   "name": "python",
   "nbconvert_exporter": "python",
   "pygments_lexer": "ipython2",
   "version": "2.7.13"
  }
 },
 "nbformat": 4,
 "nbformat_minor": 2
}
